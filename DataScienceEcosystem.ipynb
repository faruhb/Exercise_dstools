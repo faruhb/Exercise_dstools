{
 "cells": [
  {
   "cell_type": "markdown",
   "id": "a59e7e9c7541710",
   "metadata": {},
   "source": [
    "Exercise 1: Create a Jupyter Notebook\n"
   ]
  },
  {
   "cell_type": "markdown",
   "id": "201793607899b53e",
   "metadata": {},
   "source": [
    "# Data Science Tools and Ecosystem "
   ]
  },
  {
   "cell_type": "markdown",
   "id": "5acace376884f047",
   "metadata": {},
   "source": [
    "In this notebook, Data Science Tools and Ecosystem are summarized."
   ]
  },
  {
   "cell_type": "markdown",
   "id": "664edbf9fbb68cdb",
   "metadata": {},
   "source": [
    "**Objectives:**\n",
    "- List tools for Data Science\n",
    "- List ML models used in Data Science\n",
    "- List popular libraries used in Data Science"
   ]
  },
  {
   "cell_type": "markdown",
   "id": "822e19788b5ae72d",
   "metadata": {},
   "source": [
    "Some of the popular languages that Data Scientists use are: \n",
    "1- Python\n",
    "2- R \n",
    "3- Scala"
   ]
  },
  {
   "cell_type": "markdown",
   "id": "9a500d95d00ae62",
   "metadata": {},
   "source": [
    "Some of the commonly used libraries used by Data Scientists include:\n",
    "1 - Pandas\n",
    "2 - dplyr\n",
    "3 - caret"
   ]
  },
  {
   "cell_type": "markdown",
   "id": "5c4f05a98e49ea02",
   "metadata": {},
   "source": [
    "| Data Science Tools |\n",
    "|:-------------------|\n",
    "| Jupyter Notebook   |\n",
    "| TensorFlow         |\n",
    "| Pandas             |"
   ]
  },
  {
   "cell_type": "markdown",
   "id": "69f729977eade308",
   "metadata": {},
   "source": [
    "### Below are a few examples of evaluating arithmetic expressions in Python"
   ]
  },
  {
   "cell_type": "code",
   "execution_count": 2,
   "id": "e60bd5d2e10bedce",
   "metadata": {
    "ExecuteTime": {
     "end_time": "2024-01-02T09:08:14.670571200Z",
     "start_time": "2024-01-02T09:08:14.648423700Z"
    }
   },
   "outputs": [
    {
     "data": {
      "text/plain": [
       "17"
      ]
     },
     "execution_count": 2,
     "metadata": {},
     "output_type": "execute_result"
    }
   ],
   "source": [
    "# This a simple arithmetic expression to mutiply then add integers\n",
    "(3*4)+5"
   ]
  },
  {
   "cell_type": "code",
   "execution_count": 3,
   "id": "40874e34f9767dce",
   "metadata": {
    "ExecuteTime": {
     "end_time": "2024-01-02T09:09:49.997740Z",
     "start_time": "2024-01-02T09:09:49.936788500Z"
    }
   },
   "outputs": [
    {
     "data": {
      "text/plain": [
       "3.3333333333333335"
      ]
     },
     "execution_count": 3,
     "metadata": {},
     "output_type": "execute_result"
    }
   ],
   "source": [
    "# This will convert 200 minutes to hours by diving by 60\n",
    "200/60"
   ]
  },
  {
   "cell_type": "markdown",
   "id": "a3e59577f7c5d8e1",
   "metadata": {},
   "source": [
    "## Author \n",
    "Faruh Bahtiyarov"
   ]
  }
 ],
 "metadata": {
  "kernelspec": {
   "display_name": "Python 3 (ipykernel)",
   "language": "python",
   "name": "python3"
  },
  "language_info": {
   "codemirror_mode": {
    "name": "ipython",
    "version": 3
   },
   "file_extension": ".py",
   "mimetype": "text/x-python",
   "name": "python",
   "nbconvert_exporter": "python",
   "pygments_lexer": "ipython3",
   "version": "3.9.5"
  }
 },
 "nbformat": 4,
 "nbformat_minor": 5
}
